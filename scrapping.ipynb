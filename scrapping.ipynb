{
 "cells": [
  {
   "cell_type": "code",
   "execution_count": 3,
   "metadata": {},
   "outputs": [],
   "source": [
    "\n",
    "from selenium import webdriver\n",
    "from selenium.webdriver.common.by import By\n",
    "from selenium.common.exceptions import NoSuchElementException\n",
    "from bs4 import BeautifulSoup\n",
    "import time\n",
    "import re\n",
    "import os"
   ]
  },
  {
   "cell_type": "code",
   "execution_count": 204,
   "metadata": {},
   "outputs": [],
   "source": [
    "# download_dir = \"C:\\\\Users\\\\omprakashpk\\\\Documents\" # for linux/*nix, download_dir=\"/usr/Public\"\n",
    "# options = webdriver.ChromeOptions()\n",
    "\n",
    "# profile = {\"plugins.plugins_list\": [{\"enabled\": False, \"name\": \"Chrome PDF Viewer\"}], # Disable Chrome's PDF Viewer\n",
    "#                \"download.default_directory\": download_dir , \"download.extensions_to_open\": \"applications/pdf\"}\n",
    "# options.add_experimental_option(\"prefs\", profile)\n",
    "# driver = webdriver.Chrome('C:\\\\chromedriver\\\\chromedriver_2_32.exe', chrome_options=options)  # Optional argument, if not specified will search path.\n",
    "\n"
   ]
  },
  {
   "cell_type": "code",
   "execution_count": 201,
   "metadata": {},
   "outputs": [],
   "source": [
    "\n",
    "cwd = os.getcwd()\n",
    "try:\n",
    "    if( not os.path.exists(cwd+'\\\\tmp')):\n",
    "        os.mkdir(cwd+'\\\\tmp')\n",
    "except Exception as e:\n",
    "    print(e)"
   ]
  },
  {
   "cell_type": "code",
   "execution_count": 247,
   "metadata": {},
   "outputs": [],
   "source": [
    "options = webdriver.ChromeOptions()\n",
    "\n",
    "options.add_experimental_option(\"prefs\", {\n",
    "    'download.prompt_for_download':False,\n",
    "    'plugins.always_open_pdf_externally':True,\n",
    "    \"download.default_directory\": cwd+'\\\\tmp',\n",
    "    \"safebrowsing_for_trusted_sources_enabled\": False,\n",
    "    \"download.prompt_for_download\": False,\n",
    "    \"download.directory_upgrade\": True,\n",
    "    \"safebrowsing.enabled\": True\n",
    "})"
   ]
  },
  {
   "cell_type": "code",
   "execution_count": 248,
   "metadata": {},
   "outputs": [],
   "source": [
    "# base_url = \"https://ocw.mit.edu/\" \n",
    "base_url = \"https://ocw.mit.edu/search/?t=Computer%20Science\" \n",
    "# base_url = \"https://ocw.mit.edu/courses/18-s191-introduction-to-computational-thinking-fall-2022/download/\" \n",
    "\n",
    "browser = webdriver.Chrome(options=options)  # Optional argument, if not specified will search path.\n",
    "\n",
    "# browser.options.add_experimental_option(\"prefs\", profile)\n",
    "browser.get(base_url)\n",
    "\n",
    "browser.implicitly_wait(5)"
   ]
  },
  {
   "cell_type": "code",
   "execution_count": 208,
   "metadata": {},
   "outputs": [],
   "source": [
    "# clickable = browser.find_element(By.XPATH, \"//html/body/div[1]/div[2]/div/div[1]/div[2]/a\")\n",
    "# clickable.click()"
   ]
  },
  {
   "cell_type": "code",
   "execution_count": 192,
   "metadata": {},
   "outputs": [],
   "source": [
    "\n",
    "try:\n",
    "    if(not os.path.exists(cwd+'\\\\Courses')):\n",
    "        os.mkdir(cwd+'\\\\Courses')\n",
    "except Exception as e:\n",
    "    print(e)"
   ]
  },
  {
   "cell_type": "code",
   "execution_count": 255,
   "metadata": {},
   "outputs": [],
   "source": [
    "counter = 0"
   ]
  },
  {
   "cell_type": "code",
   "execution_count": 270,
   "metadata": {},
   "outputs": [
    {
     "data": {
      "text/plain": [
       "4"
      ]
     },
     "execution_count": 270,
     "metadata": {},
     "output_type": "execute_result"
    }
   ],
   "source": [
    "counter"
   ]
  },
  {
   "cell_type": "code",
   "execution_count": 271,
   "metadata": {},
   "outputs": [],
   "source": [
    "clickable = browser.find_element(By.ID, f'search-result-{counter}-title')\n",
    "clickable.click()\n",
    "browser.implicitly_wait(5)\n",
    "\n",
    "try:\n",
    "    click_download = browser.find_element(By.XPATH, '//html/body/div[1]/div[1]/div[2]/div[3]/div/div/div/div[2]/div/a')\n",
    "except NoSuchElementException as e:\n",
    "    print('Nothing to Download...')\n",
    "    counter+=1\n",
    "    browser.execute_script(\"window.history.go(-1)\")\n",
    "\n",
    "click_download.click()\n",
    "browser.implicitly_wait(5)"
   ]
  },
  {
   "cell_type": "code",
   "execution_count": 272,
   "metadata": {},
   "outputs": [],
   "source": [
    "\n",
    "html = browser.page_source\n",
    "soup = BeautifulSoup(html)"
   ]
  },
  {
   "cell_type": "code",
   "execution_count": null,
   "metadata": {},
   "outputs": [],
   "source": [
    "# soup.select('div[class*=\"resource-list-container-\"]')\n"
   ]
  },
  {
   "cell_type": "code",
   "execution_count": null,
   "metadata": {},
   "outputs": [
    {
     "data": {
      "text/plain": [
       "'/courses/11-522-research-seminar-on-urban-information-systems-fall-2005/4a4f531aadb0fb4f07d3a964e1dcc349_notes_2.pdf'"
      ]
     },
     "execution_count": 188,
     "metadata": {},
     "output_type": "execute_result"
    }
   ],
   "source": [
    "# res = soup.find_all(id=re.compile(\"resource-list-container\"))\n",
    "# res[0].find_all('a',href=True)[0]['href']"
   ]
  },
  {
   "cell_type": "code",
   "execution_count": 273,
   "metadata": {},
   "outputs": [
    {
     "name": "stdout",
     "output_type": "stream",
     "text": [
      "[<div class=\"resource-list-toggle\">\n",
      "<a aria-controls=\"resource-list-container-projects\" aria-expanded=\"false\" class=\"collapsed py-3\" data-toggle=\"collapse\" href=\"#resource-list-container-projects\">\n",
      "<i aria-hidden=\"true\" class=\"material-icons\"></i>\n",
      "<h4 class=\"my-4\">Projects</h4>\n",
      "</a>\n",
      "</div>]\n"
     ]
    }
   ],
   "source": [
    "resources = soup.find_all(\"div\", class_= \"resource-list-toggle\")\n",
    "print(resources)\n",
    "if len(resources)==0:\n",
    "    counter+=1\n",
    "    browser.execute_script(\"window.history.go(-1)\")\n",
    "    browser.execute_script(\"window.history.go(-1)\")\n",
    "    pass\n",
    "\n",
    "title:str = soup.find('h1').text\n",
    "title = title.strip('/\\n')\n",
    "title = title.replace(':','-')\n",
    "title = '_'.join(title.split(' '))\n",
    "\n",
    "try:\n",
    "    if(not os.path.exists(cwd+'\\\\Courses'+'\\\\'+title)):\n",
    "        os.mkdir(cwd+'\\\\Courses'+'\\\\'+title)\n",
    "except Exception as e:\n",
    "    print(e)\n",
    "    \n"
   ]
  },
  {
   "cell_type": "code",
   "execution_count": 276,
   "metadata": {},
   "outputs": [],
   "source": [
    "checker = soup.find_all(\"div\", class_= \"resource-list\")\n",
    "indexes = []\n",
    "for i,x in enumerate(checker):\n",
    "    if x.find('h4'):\n",
    "        indexes.append(i)"
   ]
  },
  {
   "cell_type": "code",
   "execution_count": 275,
   "metadata": {},
   "outputs": [
    {
     "data": {
      "text/plain": [
       "[0]"
      ]
     },
     "execution_count": 275,
     "metadata": {},
     "output_type": "execute_result"
    }
   ],
   "source": [
    "indexes"
   ]
  },
  {
   "cell_type": "code",
   "execution_count": 278,
   "metadata": {},
   "outputs": [
    {
     "name": "stderr",
     "output_type": "stream",
     "text": [
      "<>:18: SyntaxWarning: invalid escape sequence '\\.'\n",
      "<>:18: SyntaxWarning: invalid escape sequence '\\.'\n",
      "C:\\Users\\papal\\AppData\\Local\\Temp\\ipykernel_3696\\3143083514.py:18: SyntaxWarning: invalid escape sequence '\\.'\n",
      "  if re.search('\\..{1,4}$',x['href']):\n"
     ]
    },
    {
     "name": "stdout",
     "output_type": "stream",
     "text": [
      "/courses/res-3-002-collaborative-design-and-creative-expression-with-arduino-microcontrollers-january-iap-2017/73bbbfdef637a17339aa80e5f095d43d_LPIntro.jpg\n",
      "//a[contains(@href,\"/courses/res-3-002-collaborative-design-and-creative-expression-with-arduino-microcontrollers-january-iap-2017/73bbbfdef637a17339aa80e5f095d43d_LPIntro.jpg\")]\n",
      "https://archive.org/download/MITRES.3-002IAP17/MITRES_3-002IAP17_Long_Project_0_300k.mp4\n",
      "//a[contains(@href,\"https://archive.org/download/MITRES.3-002IAP17/MITRES_3-002IAP17_Long_Project_0_300k.mp4\")]\n",
      "/courses/res-3-002-collaborative-design-and-creative-expression-with-arduino-microcontrollers-january-iap-2017/6a1ac09ee79a3b88be45a782edcc1f92_LP1.jpg\n",
      "//a[contains(@href,\"/courses/res-3-002-collaborative-design-and-creative-expression-with-arduino-microcontrollers-january-iap-2017/6a1ac09ee79a3b88be45a782edcc1f92_LP1.jpg\")]\n",
      "https://archive.org/download/MITRES.3-002IAP17/MITRES_3-002IAP17_Long_Project_1_300k.mp4\n",
      "//a[contains(@href,\"https://archive.org/download/MITRES.3-002IAP17/MITRES_3-002IAP17_Long_Project_1_300k.mp4\")]\n",
      "/courses/res-3-002-collaborative-design-and-creative-expression-with-arduino-microcontrollers-january-iap-2017/255d9455f2cc2a98023e587bb3828f75_LP2.jpg\n",
      "//a[contains(@href,\"/courses/res-3-002-collaborative-design-and-creative-expression-with-arduino-microcontrollers-january-iap-2017/255d9455f2cc2a98023e587bb3828f75_LP2.jpg\")]\n",
      "https://archive.org/download/MITRES.3-002IAP17/MITRES_3-002IAP17_Long_Project_2_300k.mp4\n",
      "//a[contains(@href,\"https://archive.org/download/MITRES.3-002IAP17/MITRES_3-002IAP17_Long_Project_2_300k.mp4\")]\n",
      "/courses/res-3-002-collaborative-design-and-creative-expression-with-arduino-microcontrollers-january-iap-2017/64ebff042c883592c6bb216668ee3021_LP3-1.jpg\n",
      "//a[contains(@href,\"/courses/res-3-002-collaborative-design-and-creative-expression-with-arduino-microcontrollers-january-iap-2017/64ebff042c883592c6bb216668ee3021_LP3-1.jpg\")]\n",
      "/courses/res-3-002-collaborative-design-and-creative-expression-with-arduino-microcontrollers-january-iap-2017/de082736ce240a827a7f4d30d01f360b_LP3-2.jpg\n",
      "//a[contains(@href,\"/courses/res-3-002-collaborative-design-and-creative-expression-with-arduino-microcontrollers-january-iap-2017/de082736ce240a827a7f4d30d01f360b_LP3-2.jpg\")]\n",
      "https://archive.org/download/MITRES.3-002IAP17/MITRES_3-002IAP17_Long_Project_3_300k.mp4\n",
      "//a[contains(@href,\"https://archive.org/download/MITRES.3-002IAP17/MITRES_3-002IAP17_Long_Project_3_300k.mp4\")]\n",
      "https://archive.org/download/MITRES.3-002IAP17/MITRES_3-002IAP17_Long_Project_4_300k.mp4\n",
      "//a[contains(@href,\"https://archive.org/download/MITRES.3-002IAP17/MITRES_3-002IAP17_Long_Project_4_300k.mp4\")]\n"
     ]
    }
   ],
   "source": [
    "for i,x in enumerate(resources):\n",
    "    section_name:str = x.find('h4').text\n",
    "    # print(section_name)\n",
    "    # print(i,x)\n",
    "    if len(resources) == 1:\n",
    "        click_lectures = browser.find_element(By.XPATH, f'//*[@id=\"main-course-section\"]/div/div[2]/div/div[1]/a')\n",
    "    else:\n",
    "        click_lectures = browser.find_element(By.XPATH, f'//*[@id=\"main-course-section\"]/div/div[2]/div[{indexes[i]}]/div[1]/a')\n",
    "\n",
    "    click_lectures.click()\n",
    "    \n",
    "    \n",
    "    res = soup.find_all(id=re.compile(\"resource-list-container\"))\n",
    "   \n",
    "    \n",
    "\n",
    "    for x in res[i].find_all('a', href=True):\n",
    "        if re.search('\\..{1,4}$',x['href']):\n",
    "            # print(x)\n",
    "            print(x['href'])\n",
    "    #         # leactures_pdf.append(x['href'])\n",
    "            click_assignment_download = browser.find_element(By.XPATH,f'//a[contains(@href,\"{x['href']}\")]')\n",
    "            print(f'//a[contains(@href,\"{x['href']}\")]')\n",
    "            click_assignment_download.click()\n",
    "            time.sleep(2)\n",
    "        \n",
    "    list_of_files = os.listdir(os.getcwd() + '\\\\tmp')\n",
    "    section_name = section_name.replace(':','-')\n",
    "    section_name = '_'.join(section_name.split(' '))\n",
    "    \n",
    "    for file in list_of_files:\n",
    "        origin_path = os.getcwd() + '\\\\tmp'+'\\\\'+file\n",
    "        try:\n",
    "            os.mkdir(os.getcwd() + '\\\\Courses'+'\\\\'+ title+'\\\\'+ section_name)\n",
    "        except:\n",
    "            pass\n",
    "        destination_path =os.getcwd() + '\\\\Courses'+'\\\\'+title+'\\\\'+ section_name+'\\\\'+file\n",
    "        os.replace(origin_path,destination_path)\n",
    "        \n",
    "    click_lectures.click()\n",
    "    counter+=1\n",
    "    browser.execute_script(\"window.history.go(-1)\")\n",
    "    browser.execute_script(\"window.history.go(-1)\")"
   ]
  },
  {
   "cell_type": "code",
   "execution_count": 173,
   "metadata": {},
   "outputs": [
    {
     "name": "stderr",
     "output_type": "stream",
     "text": [
      "<>:13: SyntaxWarning: invalid escape sequence '\\.'\n",
      "<>:13: SyntaxWarning: invalid escape sequence '\\.'\n",
      "C:\\Users\\papal\\AppData\\Local\\Temp\\ipykernel_3696\\521762703.py:13: SyntaxWarning: invalid escape sequence '\\.'\n",
      "  if re.search('\\..{1,4}$',x['href']):\n",
      "C:\\Users\\papal\\AppData\\Local\\Temp\\ipykernel_3696\\521762703.py:13: SyntaxWarning: invalid escape sequence '\\.'\n",
      "  if re.search('\\..{1,4}$',x['href']):\n"
     ]
    },
    {
     "ename": "AttributeError",
     "evalue": "'NoneType' object has no attribute 'find_all'",
     "output_type": "error",
     "traceback": [
      "\u001b[1;31m---------------------------------------------------------------------------\u001b[0m",
      "\u001b[1;31mAttributeError\u001b[0m                            Traceback (most recent call last)",
      "Cell \u001b[1;32mIn[173], line 12\u001b[0m\n\u001b[0;32m      7\u001b[0m     \u001b[38;5;28mprint\u001b[39m(\u001b[38;5;124m'\u001b[39m\u001b[38;5;124mNo Exams Section Find...\u001b[39m\u001b[38;5;124m'\u001b[39m)\n\u001b[0;32m     10\u001b[0m ls \u001b[38;5;241m=\u001b[39m soup\u001b[38;5;241m.\u001b[39mfind(\u001b[38;5;28mid\u001b[39m\u001b[38;5;241m=\u001b[39m\u001b[38;5;124m'\u001b[39m\u001b[38;5;124mresource-list-container-exams\u001b[39m\u001b[38;5;124m'\u001b[39m)\n\u001b[1;32m---> 12\u001b[0m \u001b[38;5;28;01mfor\u001b[39;00m x \u001b[38;5;129;01min\u001b[39;00m \u001b[43mls\u001b[49m\u001b[38;5;241;43m.\u001b[39;49m\u001b[43mfind_all\u001b[49m(\u001b[38;5;124m'\u001b[39m\u001b[38;5;124ma\u001b[39m\u001b[38;5;124m'\u001b[39m, href\u001b[38;5;241m=\u001b[39m\u001b[38;5;28;01mTrue\u001b[39;00m):\n\u001b[0;32m     13\u001b[0m     \u001b[38;5;28;01mif\u001b[39;00m re\u001b[38;5;241m.\u001b[39msearch(\u001b[38;5;124m'\u001b[39m\u001b[38;5;124m\\\u001b[39m\u001b[38;5;124m..\u001b[39m\u001b[38;5;124m{\u001b[39m\u001b[38;5;124m1,4}$\u001b[39m\u001b[38;5;124m'\u001b[39m,x[\u001b[38;5;124m'\u001b[39m\u001b[38;5;124mhref\u001b[39m\u001b[38;5;124m'\u001b[39m]):\n\u001b[0;32m     14\u001b[0m         \u001b[38;5;66;03m# print(x)\u001b[39;00m\n\u001b[0;32m     15\u001b[0m         \u001b[38;5;66;03m# print(x['href'])\u001b[39;00m\n\u001b[0;32m     16\u001b[0m         \u001b[38;5;66;03m# leactures_pdf.append(x['href'])\u001b[39;00m\n\u001b[0;32m     17\u001b[0m         click_assignment_download \u001b[38;5;241m=\u001b[39m browser\u001b[38;5;241m.\u001b[39mfind_element(By\u001b[38;5;241m.\u001b[39mXPATH,\u001b[38;5;124mf\u001b[39m\u001b[38;5;124m'\u001b[39m\u001b[38;5;124m//a[contains(@href,\u001b[39m\u001b[38;5;124m\"\u001b[39m\u001b[38;5;132;01m{\u001b[39;00mx[\u001b[38;5;124m'\u001b[39m\u001b[38;5;124mhref\u001b[39m\u001b[38;5;124m'\u001b[39m]\u001b[38;5;132;01m}\u001b[39;00m\u001b[38;5;124m\"\u001b[39m\u001b[38;5;124m)]\u001b[39m\u001b[38;5;124m'\u001b[39m)\n",
      "\u001b[1;31mAttributeError\u001b[0m: 'NoneType' object has no attribute 'find_all'"
     ]
    }
   ],
   "source": [
    "for i in resources:\n",
    "    try:\n",
    "        click_lectures = browser.find_element(By.XPATH, '//*[@id=\"main-course-section\"]/div/div[2]/div[2]/div[1]/a')\n",
    "        click_lectures = browser.find_element(By.XPATH, '//*[@id=\"main-course-section\"]/div/div[2]/div[2]/div[1]/a')\n",
    "        click_lectures.click()\n",
    "    except NoSuchElementException as e:\n",
    "        print('No Exams Section Find...')\n",
    "        \n",
    "\n",
    "    ls = soup.find(id='resource-list-container-exams')\n",
    "\n",
    "    for x in ls.find_all('a', href=True):\n",
    "        if re.search('\\..{1,4}$',x['href']):\n",
    "            # print(x)\n",
    "            # print(x['href'])\n",
    "            # leactures_pdf.append(x['href'])\n",
    "            click_assignment_download = browser.find_element(By.XPATH,f'//a[contains(@href,\"{x['href']}\")]')\n",
    "            click_assignment_download.click()\n",
    "            time.sleep(2)\n",
    "            \n",
    "\n",
    "    list_of_files = os.listdir(os.getcwd() + '\\\\tmp')\n",
    "    for file in list_of_files:\n",
    "        origin_path = os.getcwd() + '\\\\tmp'+'\\\\'+file\n",
    "        try:\n",
    "            os.mkdir(os.getcwd() + '\\\\Courses'+'\\\\'+ title+'\\\\'+'Exams')\n",
    "        except:\n",
    "            pass\n",
    "        destination_path =os.getcwd() + '\\\\Courses'+'\\\\'+title+'\\\\'+'Exams'+'\\\\'+file\n",
    "        os.replace(origin_path,destination_path)\n",
    "        \n",
    "    click_lectures.click()"
   ]
  },
  {
   "cell_type": "code",
   "execution_count": 355,
   "metadata": {},
   "outputs": [
    {
     "name": "stderr",
     "output_type": "stream",
     "text": [
      "<>:11: SyntaxWarning: invalid escape sequence '\\.'\n",
      "<>:11: SyntaxWarning: invalid escape sequence '\\.'\n",
      "C:\\Users\\papal\\AppData\\Local\\Temp\\ipykernel_16888\\738553379.py:11: SyntaxWarning: invalid escape sequence '\\.'\n",
      "  if re.search('\\..{1,4}$',x['href']):\n"
     ]
    },
    {
     "name": "stdout",
     "output_type": "stream",
     "text": [
      "No Exams Section Find...\n"
     ]
    },
    {
     "name": "stderr",
     "output_type": "stream",
     "text": [
      "C:\\Users\\papal\\AppData\\Local\\Temp\\ipykernel_16888\\738553379.py:11: SyntaxWarning: invalid escape sequence '\\.'\n",
      "  if re.search('\\..{1,4}$',x['href']):\n"
     ]
    },
    {
     "ename": "AttributeError",
     "evalue": "'NoneType' object has no attribute 'find_all'",
     "output_type": "error",
     "traceback": [
      "\u001b[1;31m---------------------------------------------------------------------------\u001b[0m",
      "\u001b[1;31mAttributeError\u001b[0m                            Traceback (most recent call last)",
      "Cell \u001b[1;32mIn[355], line 10\u001b[0m\n\u001b[0;32m      5\u001b[0m     \u001b[38;5;28mprint\u001b[39m(\u001b[38;5;124m'\u001b[39m\u001b[38;5;124mNo Exams Section Find...\u001b[39m\u001b[38;5;124m'\u001b[39m)\n\u001b[0;32m      8\u001b[0m ls \u001b[38;5;241m=\u001b[39m soup\u001b[38;5;241m.\u001b[39mfind(\u001b[38;5;28mid\u001b[39m\u001b[38;5;241m=\u001b[39m\u001b[38;5;124m'\u001b[39m\u001b[38;5;124mresource-list-container-exams\u001b[39m\u001b[38;5;124m'\u001b[39m)\n\u001b[1;32m---> 10\u001b[0m \u001b[38;5;28;01mfor\u001b[39;00m x \u001b[38;5;129;01min\u001b[39;00m \u001b[43mls\u001b[49m\u001b[38;5;241;43m.\u001b[39;49m\u001b[43mfind_all\u001b[49m(\u001b[38;5;124m'\u001b[39m\u001b[38;5;124ma\u001b[39m\u001b[38;5;124m'\u001b[39m, href\u001b[38;5;241m=\u001b[39m\u001b[38;5;28;01mTrue\u001b[39;00m):\n\u001b[0;32m     11\u001b[0m     \u001b[38;5;28;01mif\u001b[39;00m re\u001b[38;5;241m.\u001b[39msearch(\u001b[38;5;124m'\u001b[39m\u001b[38;5;124m\\\u001b[39m\u001b[38;5;124m..\u001b[39m\u001b[38;5;124m{\u001b[39m\u001b[38;5;124m1,4}$\u001b[39m\u001b[38;5;124m'\u001b[39m,x[\u001b[38;5;124m'\u001b[39m\u001b[38;5;124mhref\u001b[39m\u001b[38;5;124m'\u001b[39m]):\n\u001b[0;32m     12\u001b[0m         \u001b[38;5;66;03m# print(x)\u001b[39;00m\n\u001b[0;32m     13\u001b[0m         \u001b[38;5;66;03m# print(x['href'])\u001b[39;00m\n\u001b[0;32m     14\u001b[0m         \u001b[38;5;66;03m# leactures_pdf.append(x['href'])\u001b[39;00m\n\u001b[0;32m     15\u001b[0m         click_assignment_download \u001b[38;5;241m=\u001b[39m browser\u001b[38;5;241m.\u001b[39mfind_element(By\u001b[38;5;241m.\u001b[39mXPATH,\u001b[38;5;124mf\u001b[39m\u001b[38;5;124m'\u001b[39m\u001b[38;5;124m//a[contains(@href,\u001b[39m\u001b[38;5;124m\"\u001b[39m\u001b[38;5;132;01m{\u001b[39;00mx[\u001b[38;5;124m'\u001b[39m\u001b[38;5;124mhref\u001b[39m\u001b[38;5;124m'\u001b[39m]\u001b[38;5;132;01m}\u001b[39;00m\u001b[38;5;124m\"\u001b[39m\u001b[38;5;124m)]\u001b[39m\u001b[38;5;124m'\u001b[39m)\n",
      "\u001b[1;31mAttributeError\u001b[0m: 'NoneType' object has no attribute 'find_all'"
     ]
    }
   ],
   "source": [
    "\n",
    "try:\n",
    "    click_lectures = browser.find_element(By.XPATH, '//*[@id=\"main-course-section\"]/div/div[2]/div[2]/div[1]/a')\n",
    "    click_lectures.click()\n",
    "except NoSuchElementException as e:\n",
    "    print('No Exams Section Find...')\n",
    "    \n",
    "\n",
    "ls = soup.find(id='resource-list-container-exams')\n",
    "\n",
    "for x in ls.find_all('a', href=True):\n",
    "    if re.search('\\..{1,4}$',x['href']):\n",
    "        # print(x)\n",
    "        # print(x['href'])\n",
    "        # leactures_pdf.append(x['href'])\n",
    "        click_assignment_download = browser.find_element(By.XPATH,f'//a[contains(@href,\"{x['href']}\")]')\n",
    "        click_assignment_download.click()\n",
    "        time.sleep(2)\n",
    "        \n",
    "\n",
    "list_of_files = os.listdir(os.getcwd() + '\\\\tmp')\n",
    "for file in list_of_files:\n",
    "    origin_path = os.getcwd() + '\\\\tmp'+'\\\\'+file\n",
    "    try:\n",
    "        os.mkdir(os.getcwd() + '\\\\Courses'+'\\\\'+ title+'\\\\'+'Exams')\n",
    "    except:\n",
    "        pass\n",
    "    destination_path =os.getcwd() + '\\\\Courses'+'\\\\'+title+'\\\\'+'Exams'+'\\\\'+file\n",
    "    os.replace(origin_path,destination_path)\n",
    "    \n",
    "click_lectures.click()\n"
   ]
  },
  {
   "cell_type": "code",
   "execution_count": 356,
   "metadata": {},
   "outputs": [
    {
     "name": "stderr",
     "output_type": "stream",
     "text": [
      "<>:11: SyntaxWarning: invalid escape sequence '\\.'\n",
      "<>:11: SyntaxWarning: invalid escape sequence '\\.'\n",
      "C:\\Users\\papal\\AppData\\Local\\Temp\\ipykernel_16888\\3360626974.py:11: SyntaxWarning: invalid escape sequence '\\.'\n",
      "  if re.search('\\..{1,4}$',x['href']):\n"
     ]
    },
    {
     "name": "stdout",
     "output_type": "stream",
     "text": [
      "No Assignments Section Find...\n"
     ]
    },
    {
     "name": "stderr",
     "output_type": "stream",
     "text": [
      "C:\\Users\\papal\\AppData\\Local\\Temp\\ipykernel_16888\\3360626974.py:11: SyntaxWarning: invalid escape sequence '\\.'\n",
      "  if re.search('\\..{1,4}$',x['href']):\n"
     ]
    },
    {
     "ename": "AttributeError",
     "evalue": "'NoneType' object has no attribute 'find_all'",
     "output_type": "error",
     "traceback": [
      "\u001b[1;31m---------------------------------------------------------------------------\u001b[0m",
      "\u001b[1;31mAttributeError\u001b[0m                            Traceback (most recent call last)",
      "Cell \u001b[1;32mIn[356], line 10\u001b[0m\n\u001b[0;32m      5\u001b[0m     \u001b[38;5;28mprint\u001b[39m(\u001b[38;5;124m'\u001b[39m\u001b[38;5;124mNo Assignments Section Find...\u001b[39m\u001b[38;5;124m'\u001b[39m)\n\u001b[0;32m      8\u001b[0m ls \u001b[38;5;241m=\u001b[39m soup\u001b[38;5;241m.\u001b[39mfind(\u001b[38;5;28mid\u001b[39m\u001b[38;5;241m=\u001b[39m\u001b[38;5;124m'\u001b[39m\u001b[38;5;124mresource-list-container-assignments\u001b[39m\u001b[38;5;124m'\u001b[39m)\n\u001b[1;32m---> 10\u001b[0m \u001b[38;5;28;01mfor\u001b[39;00m x \u001b[38;5;129;01min\u001b[39;00m \u001b[43mls\u001b[49m\u001b[38;5;241;43m.\u001b[39;49m\u001b[43mfind_all\u001b[49m(\u001b[38;5;124m'\u001b[39m\u001b[38;5;124ma\u001b[39m\u001b[38;5;124m'\u001b[39m, href\u001b[38;5;241m=\u001b[39m\u001b[38;5;28;01mTrue\u001b[39;00m):\n\u001b[0;32m     11\u001b[0m     \u001b[38;5;28;01mif\u001b[39;00m re\u001b[38;5;241m.\u001b[39msearch(\u001b[38;5;124m'\u001b[39m\u001b[38;5;124m\\\u001b[39m\u001b[38;5;124m..\u001b[39m\u001b[38;5;124m{\u001b[39m\u001b[38;5;124m1,4}$\u001b[39m\u001b[38;5;124m'\u001b[39m,x[\u001b[38;5;124m'\u001b[39m\u001b[38;5;124mhref\u001b[39m\u001b[38;5;124m'\u001b[39m]):\n\u001b[0;32m     12\u001b[0m         \u001b[38;5;66;03m# print(x)\u001b[39;00m\n\u001b[0;32m     13\u001b[0m         \u001b[38;5;66;03m# print(x['href'])\u001b[39;00m\n\u001b[0;32m     14\u001b[0m         \u001b[38;5;66;03m# leactures_pdf.append(x['href'])\u001b[39;00m\n\u001b[0;32m     15\u001b[0m         click_assignment_download \u001b[38;5;241m=\u001b[39m browser\u001b[38;5;241m.\u001b[39mfind_element(By\u001b[38;5;241m.\u001b[39mXPATH,\u001b[38;5;124mf\u001b[39m\u001b[38;5;124m'\u001b[39m\u001b[38;5;124m//a[contains(@href,\u001b[39m\u001b[38;5;124m\"\u001b[39m\u001b[38;5;132;01m{\u001b[39;00mx[\u001b[38;5;124m'\u001b[39m\u001b[38;5;124mhref\u001b[39m\u001b[38;5;124m'\u001b[39m]\u001b[38;5;132;01m}\u001b[39;00m\u001b[38;5;124m\"\u001b[39m\u001b[38;5;124m)]\u001b[39m\u001b[38;5;124m'\u001b[39m)\n",
      "\u001b[1;31mAttributeError\u001b[0m: 'NoneType' object has no attribute 'find_all'"
     ]
    }
   ],
   "source": [
    "\n",
    "\n",
    "try:\n",
    "    click_lectures = browser.find_element(By.XPATH, '//*[@id=\"main-course-section\"]/div/div[2]/div[1]/div[1]/a')\n",
    "    click_lectures.click()\n",
    "except NoSuchElementException as e:\n",
    "    print('No Assignments Section Find...')\n",
    "    \n",
    "\n",
    "ls = soup.find(id='resource-list-container-assignments')\n",
    "\n",
    "for x in ls.find_all('a', href=True):\n",
    "    if re.search('\\..{1,4}$',x['href']):\n",
    "        # print(x)\n",
    "        # print(x['href'])\n",
    "        # leactures_pdf.append(x['href'])\n",
    "        click_assignment_download = browser.find_element(By.XPATH,f'//a[contains(@href,\"{x['href']}\")]')\n",
    "        click_assignment_download.click()\n",
    "        time.sleep(2)\n",
    "        \n",
    "\n",
    "list_of_files = os.listdir(os.getcwd() + '\\\\tmp')\n",
    "for file in list_of_files:\n",
    "    origin_path = os.getcwd() + '\\\\tmp'+'\\\\'+file\n",
    "    try:\n",
    "        os.mkdir(os.getcwd() + '\\\\Courses'+'\\\\'+ title+'\\\\'+'Assignments')\n",
    "    except:\n",
    "        pass\n",
    "    destination_path =os.getcwd() + '\\\\Courses'+'\\\\'+title+'\\\\'+'Assignments'+'\\\\'+file\n",
    "    os.replace(origin_path,destination_path)\n",
    "    \n",
    "click_lectures.click()"
   ]
  },
  {
   "cell_type": "code",
   "execution_count": 357,
   "metadata": {},
   "outputs": [
    {
     "name": "stderr",
     "output_type": "stream",
     "text": [
      "<>:12: SyntaxWarning: invalid escape sequence '\\.'\n",
      "<>:12: SyntaxWarning: invalid escape sequence '\\.'\n",
      "C:\\Users\\papal\\AppData\\Local\\Temp\\ipykernel_16888\\3757825222.py:12: SyntaxWarning: invalid escape sequence '\\.'\n",
      "  if re.search('\\..{4}$',x['href']):\n"
     ]
    },
    {
     "name": "stdout",
     "output_type": "stream",
     "text": [
      "No Lectures Section Find...\n"
     ]
    },
    {
     "name": "stderr",
     "output_type": "stream",
     "text": [
      "C:\\Users\\papal\\AppData\\Local\\Temp\\ipykernel_16888\\3757825222.py:12: SyntaxWarning: invalid escape sequence '\\.'\n",
      "  if re.search('\\..{4}$',x['href']):\n"
     ]
    },
    {
     "ename": "AttributeError",
     "evalue": "'NoneType' object has no attribute 'find_all'",
     "output_type": "error",
     "traceback": [
      "\u001b[1;31m---------------------------------------------------------------------------\u001b[0m",
      "\u001b[1;31mAttributeError\u001b[0m                            Traceback (most recent call last)",
      "Cell \u001b[1;32mIn[357], line 11\u001b[0m\n\u001b[0;32m      8\u001b[0m ls \u001b[38;5;241m=\u001b[39m soup\u001b[38;5;241m.\u001b[39mfind(\u001b[38;5;28mid\u001b[39m\u001b[38;5;241m=\u001b[39m\u001b[38;5;124m'\u001b[39m\u001b[38;5;124mresource-list-container-lecture-notes\u001b[39m\u001b[38;5;124m'\u001b[39m)\n\u001b[0;32m      9\u001b[0m \u001b[38;5;66;03m# ls.find_all('a', class_='resource-thumbnail')\u001b[39;00m\n\u001b[1;32m---> 11\u001b[0m \u001b[38;5;28;01mfor\u001b[39;00m x \u001b[38;5;129;01min\u001b[39;00m \u001b[43mls\u001b[49m\u001b[38;5;241;43m.\u001b[39;49m\u001b[43mfind_all\u001b[49m(\u001b[38;5;124m'\u001b[39m\u001b[38;5;124ma\u001b[39m\u001b[38;5;124m'\u001b[39m, href\u001b[38;5;241m=\u001b[39m\u001b[38;5;28;01mTrue\u001b[39;00m):\n\u001b[0;32m     12\u001b[0m     \u001b[38;5;28;01mif\u001b[39;00m re\u001b[38;5;241m.\u001b[39msearch(\u001b[38;5;124m'\u001b[39m\u001b[38;5;124m\\\u001b[39m\u001b[38;5;124m..\u001b[39m\u001b[38;5;132;01m{4}\u001b[39;00m\u001b[38;5;124m$\u001b[39m\u001b[38;5;124m'\u001b[39m,x[\u001b[38;5;124m'\u001b[39m\u001b[38;5;124mhref\u001b[39m\u001b[38;5;124m'\u001b[39m]):\n\u001b[0;32m     13\u001b[0m         \u001b[38;5;66;03m# print(x['href'])\u001b[39;00m\n\u001b[0;32m     14\u001b[0m         \u001b[38;5;66;03m# leactures_pdf.append(x['href'])\u001b[39;00m\n\u001b[0;32m     15\u001b[0m         click_leacture_download \u001b[38;5;241m=\u001b[39m browser\u001b[38;5;241m.\u001b[39mfind_element(By\u001b[38;5;241m.\u001b[39mXPATH,\u001b[38;5;124mf\u001b[39m\u001b[38;5;124m'\u001b[39m\u001b[38;5;124m//a[contains(@href,\u001b[39m\u001b[38;5;124m\"\u001b[39m\u001b[38;5;132;01m{\u001b[39;00mx[\u001b[38;5;124m'\u001b[39m\u001b[38;5;124mhref\u001b[39m\u001b[38;5;124m'\u001b[39m]\u001b[38;5;132;01m}\u001b[39;00m\u001b[38;5;124m\"\u001b[39m\u001b[38;5;124m)]\u001b[39m\u001b[38;5;124m'\u001b[39m)\n",
      "\u001b[1;31mAttributeError\u001b[0m: 'NoneType' object has no attribute 'find_all'"
     ]
    }
   ],
   "source": [
    "\n",
    "try:\n",
    "    click_lectures = browser.find_element(By.XPATH, '//html/body/div[1]/div[2]/div[2]/div[2]/div/div/div/div[1]/div/div[2]/div[2]/div[1]/a')\n",
    "    click_lectures.click()\n",
    "except NoSuchElementException as e:\n",
    "    print('No Lectures Section Find...')\n",
    "    \n",
    "\n",
    "ls = soup.find(id='resource-list-container-lecture-notes')\n",
    "# ls.find_all('a', class_='resource-thumbnail')\n",
    "\n",
    "for x in ls.find_all('a', href=True):\n",
    "    if re.search('\\..{4}$',x['href']):\n",
    "        # print(x['href'])\n",
    "        # leactures_pdf.append(x['href'])\n",
    "        click_leacture_download = browser.find_element(By.XPATH,f'//a[contains(@href,\"{x['href']}\")]')\n",
    "        click_leacture_download.click()\n",
    "        time.sleep(2)\n",
    "        \n",
    "\n",
    "list_of_files = os.listdir(os.getcwd() + '\\\\tmp')\n",
    "for file in list_of_files:\n",
    "    origin_path = os.getcwd() + '\\\\tmp'+'\\\\'+file\n",
    "    try:\n",
    "        os.mkdir(os.getcwd() + '\\\\Courses'+'\\\\'+ title+'\\\\'+'Lectures')\n",
    "    except:\n",
    "        pass\n",
    "    destination_path =os.getcwd() + '\\\\Courses'+'\\\\'+title+'\\\\'+'Lectures'+'\\\\'+file\n",
    "    os.replace(origin_path,destination_path)\n",
    "\n",
    "click_lectures.click()"
   ]
  },
  {
   "cell_type": "code",
   "execution_count": 358,
   "metadata": {},
   "outputs": [
    {
     "name": "stderr",
     "output_type": "stream",
     "text": [
      "<>:11: SyntaxWarning: invalid escape sequence '\\.'\n",
      "<>:11: SyntaxWarning: invalid escape sequence '\\.'\n",
      "C:\\Users\\papal\\AppData\\Local\\Temp\\ipykernel_16888\\1503574194.py:11: SyntaxWarning: invalid escape sequence '\\.'\n",
      "  if re.search('\\..{1,4}$',x['href']):\n"
     ]
    },
    {
     "name": "stdout",
     "output_type": "stream",
     "text": [
      "No Reading Section Find...\n"
     ]
    },
    {
     "name": "stderr",
     "output_type": "stream",
     "text": [
      "C:\\Users\\papal\\AppData\\Local\\Temp\\ipykernel_16888\\1503574194.py:11: SyntaxWarning: invalid escape sequence '\\.'\n",
      "  if re.search('\\..{1,4}$',x['href']):\n"
     ]
    },
    {
     "ename": "AttributeError",
     "evalue": "'NoneType' object has no attribute 'find_all'",
     "output_type": "error",
     "traceback": [
      "\u001b[1;31m---------------------------------------------------------------------------\u001b[0m",
      "\u001b[1;31mAttributeError\u001b[0m                            Traceback (most recent call last)",
      "Cell \u001b[1;32mIn[358], line 10\u001b[0m\n\u001b[0;32m      7\u001b[0m ls \u001b[38;5;241m=\u001b[39m soup\u001b[38;5;241m.\u001b[39mfind(\u001b[38;5;28mid\u001b[39m\u001b[38;5;241m=\u001b[39m\u001b[38;5;124m'\u001b[39m\u001b[38;5;124mresource-list-container-readings\u001b[39m\u001b[38;5;124m'\u001b[39m)\n\u001b[0;32m      9\u001b[0m readings_pdf \u001b[38;5;241m=\u001b[39m []\n\u001b[1;32m---> 10\u001b[0m \u001b[38;5;28;01mfor\u001b[39;00m x \u001b[38;5;129;01min\u001b[39;00m \u001b[43mls\u001b[49m\u001b[38;5;241;43m.\u001b[39;49m\u001b[43mfind_all\u001b[49m(\u001b[38;5;124m'\u001b[39m\u001b[38;5;124ma\u001b[39m\u001b[38;5;124m'\u001b[39m, href\u001b[38;5;241m=\u001b[39m\u001b[38;5;28;01mTrue\u001b[39;00m):\n\u001b[0;32m     11\u001b[0m     \u001b[38;5;28;01mif\u001b[39;00m re\u001b[38;5;241m.\u001b[39msearch(\u001b[38;5;124m'\u001b[39m\u001b[38;5;124m\\\u001b[39m\u001b[38;5;124m..\u001b[39m\u001b[38;5;124m{\u001b[39m\u001b[38;5;124m1,4}$\u001b[39m\u001b[38;5;124m'\u001b[39m,x[\u001b[38;5;124m'\u001b[39m\u001b[38;5;124mhref\u001b[39m\u001b[38;5;124m'\u001b[39m]):\n\u001b[0;32m     12\u001b[0m         \u001b[38;5;28mprint\u001b[39m(x[\u001b[38;5;124m'\u001b[39m\u001b[38;5;124mhref\u001b[39m\u001b[38;5;124m'\u001b[39m])\n",
      "\u001b[1;31mAttributeError\u001b[0m: 'NoneType' object has no attribute 'find_all'"
     ]
    }
   ],
   "source": [
    "\n",
    "try:\n",
    "    click_readings = browser.find_element(By.XPATH, '//html/body/div[1]/div[2]/div[2]/div[2]/div/div/div/div[1]/div/div[2]/div[3]/div[1]/a')\n",
    "    click_readings.click()\n",
    "except NoSuchElementException as e:\n",
    "    print('No Reading Section Find...')\n",
    "\n",
    "ls = soup.find(id='resource-list-container-readings')\n",
    "\n",
    "readings_pdf = []\n",
    "for x in ls.find_all('a', href=True):\n",
    "    if re.search('\\..{1,4}$',x['href']):\n",
    "        print(x['href'])\n",
    "        \n",
    "        click_readings_download = browser.find_element(By.XPATH,f'//a[contains(@href,\"{x['href']}\")]')\n",
    "        click_readings_download.click()\n",
    "        time.sleep(2)\n",
    "\n",
    "list_of_files = os.listdir(os.getcwd() + '\\\\tmp')\n",
    "for file in list_of_files:\n",
    "    origin_path = os.getcwd() + '\\\\tmp'+'\\\\'+file\n",
    "    try:\n",
    "        os.mkdir(os.getcwd() + '\\\\Courses'+'\\\\'+ title+'\\\\'+'Readings')\n",
    "    except:\n",
    "        pass\n",
    "    destination_path =os.getcwd() + '\\\\Courses'+'\\\\'+title+'\\\\'+'Readings'+'\\\\'+file\n",
    "    os.replace(origin_path,destination_path)\n",
    "\n",
    "click_readings_download.click()"
   ]
  },
  {
   "cell_type": "code",
   "execution_count": 203,
   "metadata": {},
   "outputs": [],
   "source": [
    "browser.execute_script(\"window.history.go(-1)\")\n",
    "browser.execute_script(\"window.history.go(-1)\")"
   ]
  },
  {
   "cell_type": "code",
   "execution_count": 204,
   "metadata": {},
   "outputs": [],
   "source": [
    "counter+=1"
   ]
  },
  {
   "cell_type": "code",
   "execution_count": null,
   "metadata": {},
   "outputs": [],
   "source": [
    "# Get scroll height\n",
    "# last_height = browser.execute_script(\"return document.body.scrollHeight\")\n",
    "# last_height"
   ]
  },
  {
   "cell_type": "code",
   "execution_count": 205,
   "metadata": {},
   "outputs": [],
   "source": [
    "scroll_height = 70\n",
    "browser.execute_script(f'window.scrollTo(0, {700+counter*scroll_height})')"
   ]
  },
  {
   "cell_type": "code",
   "execution_count": 348,
   "metadata": {},
   "outputs": [
    {
     "data": {
      "text/plain": [
       "True"
      ]
     },
     "execution_count": 348,
     "metadata": {},
     "output_type": "execute_result"
    }
   ],
   "source": [
    "\n",
    "# html = browser.page_source\n",
    "# soup = BeautifulSoup(html)"
   ]
  }
 ],
 "metadata": {
  "kernelspec": {
   "display_name": "Python 3",
   "language": "python",
   "name": "python3"
  },
  "language_info": {
   "codemirror_mode": {
    "name": "ipython",
    "version": 3
   },
   "file_extension": ".py",
   "mimetype": "text/x-python",
   "name": "python",
   "nbconvert_exporter": "python",
   "pygments_lexer": "ipython3",
   "version": "3.13.2"
  }
 },
 "nbformat": 4,
 "nbformat_minor": 2
}
